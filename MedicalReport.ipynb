{
  "nbformat": 4,
  "nbformat_minor": 0,
  "metadata": {
    "colab": {
      "provenance": [],
      "mount_file_id": "1fGoWDxGq9jZ2yIq32tqSRT2adSoAC4LL",
      "authorship_tag": "ABX9TyNWKO5Fuf5LX9vqWqUDcZWv",
      "include_colab_link": true
    },
    "kernelspec": {
      "name": "python3",
      "display_name": "Python 3"
    },
    "language_info": {
      "name": "python"
    }
  },
  "cells": [
    {
      "cell_type": "markdown",
      "metadata": {
        "id": "view-in-github",
        "colab_type": "text"
      },
      "source": [
        "<a href=\"https://colab.research.google.com/github/Rajanner/gitdemo2962022/blob/master/MedicalReport.ipynb\" target=\"_parent\"><img src=\"https://colab.research.google.com/assets/colab-badge.svg\" alt=\"Open In Colab\"/></a>"
      ]
    },
    {
      "cell_type": "code",
      "execution_count": null,
      "metadata": {
        "id": "ucmMxSTx4ILH"
      },
      "outputs": [],
      "source": [
        "!pip install pytesseract\n",
        "!pip install opencv-python\n",
        "!apt install tesseract-ocr"
      ]
    },
    {
      "cell_type": "code",
      "source": [
        "import cv2\n",
        "import pytesseract\n",
        "\n",
        "# Load the image using OpenCV\n",
        "image_path = '/content/drive/MyDrive/Report/medical_report12.jpg'  # Replace with the path to your medical report image\n",
        "image = cv2.imread(image_path)\n",
        "\n",
        "# Convert the image to grayscale for better OCR accuracy\n",
        "gray_image = cv2.cvtColor(image, cv2.COLOR_BGR2GRAY)\n",
        "\n",
        "# Use pytesseract to perform OCR on the grayscale image\n",
        "text = pytesseract.image_to_string(gray_image)\n",
        "\n",
        "# Print the extracted text (for debugging purposes)\n",
        "# print(text)\n"
      ],
      "metadata": {
        "id": "c4qZQqut5dXr"
      },
      "execution_count": null,
      "outputs": []
    },
    {
      "cell_type": "code",
      "source": [
        "import re\n",
        "\n",
        "# Define a regular expression pattern to match the bill amount\n",
        "pattern = []\n",
        "fl=0\n",
        "if(re.findall(\"\\s+\\$([0-9,]+\\.[0-9]{2})\",text)):\n",
        "  fl=1\n",
        "  pattern = r\"\\s+\\$([0-9,]+\\.[0-9]{2})\"\n",
        "elif(re.findall(\"\\s+\\₹([0-9,]+\\.[0-9]{2})\",text)):\n",
        "  fl=2\n",
        "  pattern = r\"\\s+\\₹([0-9,]+\\.[0-9]{2})\"\n",
        "# elif(re.search(\"\\s+\\Rs.\\([0-9,]+\\.[0-9]{2})\",text)):\n",
        "#   pattern = r\"\\s+\\Rs.([0-9,]+\\.[0-9]{2})\"\n",
        "else:\n",
        "  pattern = r\"\\s+([0-9,]+\\.[0-9]{2})\"\n",
        "\n",
        "# Search for the bill amount in the extracted text\n",
        "matches = re.findall(pattern, text)\n",
        "s = \"\"\n",
        "# print(matches)\n",
        "if matches:\n",
        "    bill_amount = matches[-1]\n",
        "    print(\"Bill Amount:\", end=\"\")\n",
        "    if(fl==1):\n",
        "      s = \"\".join([\"$\",bill_amount])\n",
        "      print(s)\n",
        "    elif(fl==2):\n",
        "      s = \"\".join([\"₹\",bill_amount])\n",
        "      print(s)\n",
        "    elif(fl==0):\n",
        "      s = \"\".join([\"₹\",bill_amount])\n",
        "      print(s)\n",
        "else:\n",
        "    print(\"Bill Amount not found in the medical report.\")"
      ],
      "metadata": {
        "colab": {
          "base_uri": "https://localhost:8080/"
        },
        "id": "QJjiu-Wo2oGV",
        "outputId": "e913fc41-d628-4348-8121-495269de77a6"
      },
      "execution_count": 90,
      "outputs": [
        {
          "output_type": "stream",
          "name": "stdout",
          "text": [
            "Bill Amount:₹4,862.80\n"
          ]
        }
      ]
    },
    {
      "cell_type": "markdown",
      "source": [
        "Below one is not used"
      ],
      "metadata": {
        "id": "LANpLk5uzT9A"
      }
    },
    {
      "cell_type": "code",
      "source": [
        "import re\n",
        "\n",
        "# Define a regular expression pattern to match the bill amount\n",
        "pattern = \"\"\n",
        "if(re.search(\"\\s+\\$([0-9,]+\\.[0-9]{2})\",text)):\n",
        "  pattern = r\"\\s+\\$([0-9,]+\\.[0-9]{2})\"\n",
        "elif(re.search(\"\\s+\\₹([0-9,]+\\.[0-9]{2})\",text)):\n",
        "  pattern = r\"\\s+\\₹([0-9,]+\\.[0-9]{2})\"\n",
        "# elif(re.search(\"\\s+\\Rs.\\([0-9,]+\\.[0-9]{2})\",text)):\n",
        "#   pattern = r\"\\s+\\Rs.([0-9,]+\\.[0-9]{2})\"\n",
        "else:\n",
        "  pattern = r\"\\s+([0-9,]+\\.[0-9]{2})\"\n",
        "\n",
        "# Search for the bill amount in the extracted text\n",
        "matches = re.search(pattern, text)\n",
        "\n",
        "if matches:\n",
        "    bill_amount = matches.group(0)\n",
        "    print(\"Bill Amount:\", bill_amount)\n",
        "else:\n",
        "    print(\"Bill Amount not found in the medical report.\")"
      ],
      "metadata": {
        "id": "f5ew6F_C5ftO"
      },
      "execution_count": null,
      "outputs": []
    }
  ]
}